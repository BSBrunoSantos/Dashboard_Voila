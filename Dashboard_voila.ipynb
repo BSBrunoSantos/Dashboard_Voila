{
 "cells": [
  {
   "cell_type": "code",
   "execution_count": 1,
   "id": "790b197e",
   "metadata": {},
   "outputs": [],
   "source": [
    "import pandas as pd\n",
    "import numpy as np\n",
    "import plotly.graph_objects as go\n",
    "import plotly.express as px\n",
    "import ipywidgets as w"
   ]
  },
  {
   "cell_type": "code",
   "execution_count": 2,
   "id": "905ea82a",
   "metadata": {},
   "outputs": [],
   "source": [
    "df = pd.read_csv('Desktop/Dashboard voila/train.csv')"
   ]
  },
  {
   "cell_type": "code",
   "execution_count": 3,
   "id": "95a6a7fe",
   "metadata": {},
   "outputs": [],
   "source": [
    "df.Embarked.fillna('N_Info', inplace=True)\n",
    "df.Cabin.fillna('N_Info', inplace=True)\n",
    "df.Age.fillna(np.trunc(df.Age.mean()), inplace=True)\n",
    "df.Survived = df.Survived.apply(lambda x: 'Yes' if x==1 else 'No')"
   ]
  },
  {
   "cell_type": "code",
   "execution_count": 4,
   "id": "7b9ae69a",
   "metadata": {},
   "outputs": [],
   "source": [
    "Sex = list(df.Sex.drop_duplicates())\n",
    "Embarked = list(df.Embarked.drop_duplicates())\n",
    "Embarked.append('All')\n",
    "Embarked.sort()\n",
    "Survived = list(df.Survived.drop_duplicates())"
   ]
  },
  {
   "cell_type": "code",
   "execution_count": 5,
   "id": "3a4b7cfd",
   "metadata": {},
   "outputs": [],
   "source": [
    "#Checkbox Sexo\n",
    "check = [w.Checkbox(value=False, description=z) for z in Sex]"
   ]
  },
  {
   "cell_type": "code",
   "execution_count": 6,
   "id": "1eccaa44",
   "metadata": {},
   "outputs": [],
   "source": [
    "#Slider Idade\n",
    "df.Age = np.trunc(df.Age)\n",
    "df.Age.fillna(np.trunc(df.Age.mean()), inplace=True)\n",
    "df.Age = df.Age.astype(int)\n",
    "\n",
    "age_min = df.Age.min()\n",
    "age_max = df.Age.max()\n",
    "age_slider = range(age_min, age_max)\n",
    "\n",
    "w_age = w.SelectionRangeSlider(\n",
    "    options=age_slider,\n",
    "    index=(0, len(age_slider)-1),\n",
    "    description='Age',\n",
    "    disabled=False\n",
    ")"
   ]
  },
  {
   "cell_type": "code",
   "execution_count": 7,
   "id": "62faae97",
   "metadata": {},
   "outputs": [],
   "source": [
    "#Dropdown\n",
    "w_embarked = w.Dropdown(\n",
    "    options=Embarked,\n",
    "    value='All',\n",
    "    description='Embarked',\n",
    "    disabled=False\n",
    ")"
   ]
  },
  {
   "cell_type": "code",
   "execution_count": 26,
   "id": "4392840c",
   "metadata": {},
   "outputs": [],
   "source": [
    "def slider(limites,Male, Female, Embarked):\n",
    "    \n",
    "    if Embarked !='All':\n",
    "        df_E = df[df.Embarked==Embarked].copy()\n",
    "    else:\n",
    "        df_E = df.copy()\n",
    "    \n",
    "    df_plot = df_E[['Survived','Sex','PassengerId']][(df_E.Age>=limites[0])&(df_E.Age<= limites[1])].copy()\n",
    "    \n",
    "    if Male==True and Female==False:\n",
    "        df_plot = df_plot[df_plot.Sex=='male'].copy()\n",
    "        \n",
    "    if Female==True and Male==False:\n",
    "        df_plot = df_plot[df_plot.Sex=='female'].copy()\n",
    "        \n",
    "    df_table = df[df.index.isin(df_plot.index)]\n",
    "   \n",
    "    df_plot = df_plot.groupby(by=['Survived','Sex']).count().reset_index()\n",
    "\n",
    "    fig1= px.bar(df_plot, y='PassengerId',x='Sex',color='Survived', labels=dict(PassengerId='Qt'),title='Survived Passagers Titanic',barmode='group')\n",
    "\n",
    "    fig2 = go.Figure(data=[go.Table(\n",
    "        header=dict(values=list(df_table.columns),\n",
    "                    fill_color='paleturquoise',\n",
    "                    align='left'),\n",
    "        cells=dict(values=[df_table.PassengerId,df_table.Survived,df_table.Pclass,\n",
    "                           df_table.Name,df_table.Sex,df_table.Age,df_table.SibSp,\n",
    "                           df_table.Parch,df_table.Ticket,df_table.Fare,df_table.Cabin,df_table.Embarked],\n",
    "                   fill_color='lavender',\n",
    "                   align='left'))\n",
    "            ])\n",
    "\n",
    "    fig1.update_layout(\n",
    "    autosize=False,\n",
    "    width=800,\n",
    "    height=600)\n",
    "    \n",
    "    fig2.update_layout(height=300, margin=dict(r=15, l=5, t=5, b=5))\n",
    "    \n",
    "    return fig1.show(),fig2.show()"
   ]
  },
  {
   "cell_type": "markdown",
   "id": "9fe97f31",
   "metadata": {},
   "source": [
    "# Dashboard Interativo com python"
   ]
  },
  {
   "cell_type": "markdown",
   "id": "0108e71a",
   "metadata": {},
   "source": [
    "## Exemplo basico da criação de dashboard apartir de arquivo csv somente com uso do python\n"
   ]
  },
  {
   "cell_type": "markdown",
   "id": "ae0c8101",
   "metadata": {},
   "source": [
    "## https://www.linkedin.com/in/bruno-o-santos/"
   ]
  },
  {
   "cell_type": "code",
   "execution_count": 27,
   "id": "cc0656b6",
   "metadata": {},
   "outputs": [
    {
     "data": {
      "application/vnd.jupyter.widget-view+json": {
       "model_id": "b2ff60d1b99d4ec0b25a4e4e23e22bbc",
       "version_major": 2,
       "version_minor": 0
      },
      "text/plain": [
       "interactive(children=(SelectionRangeSlider(description='Age', index=(0, 79), options=(0, 1, 2, 3, 4, 5, 6, 7, …"
      ]
     },
     "metadata": {},
     "output_type": "display_data"
    }
   ],
   "source": [
    "interactive_plot = w.interactive(slider, limites=w_age, Male=check[0].value, Female=check[1].value, \n",
    "                                 Embarked = w_embarked)\n",
    "\n",
    "output = interactive_plot.children[-1]\n",
    "output.layout.height = '1000px'\n",
    "display(interactive_plot)\n"
   ]
  },
  {
   "cell_type": "code",
   "execution_count": null,
   "id": "0e461ee6",
   "metadata": {},
   "outputs": [],
   "source": []
  },
  {
   "cell_type": "code",
   "execution_count": null,
   "id": "c72e05db",
   "metadata": {},
   "outputs": [],
   "source": []
  }
 ],
 "metadata": {
  "kernelspec": {
   "display_name": "Python 3 (ipykernel)",
   "language": "python",
   "name": "python3"
  },
  "language_info": {
   "codemirror_mode": {
    "name": "ipython",
    "version": 3
   },
   "file_extension": ".py",
   "mimetype": "text/x-python",
   "name": "python",
   "nbconvert_exporter": "python",
   "pygments_lexer": "ipython3",
   "version": "3.9.7"
  }
 },
 "nbformat": 4,
 "nbformat_minor": 5
}
